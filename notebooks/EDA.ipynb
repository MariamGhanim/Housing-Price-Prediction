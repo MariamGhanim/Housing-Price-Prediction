{
 "cells": [
  {
   "cell_type": "markdown",
   "id": "aef0fbc3",
   "metadata": {},
   "source": [
    "# Housing Price Prediction - Exploratory Data Analysis (EDA)\n",
    "\n",
    "Hello, and welcome. In this notebook, we will perform an exploratory analysis of the housing dataset to identify key patterns, relationships, and potential data quality issues prior to developing a predictive model"
   ]
  },
  {
   "cell_type": "markdown",
   "id": "3ccf1161",
   "metadata": {},
   "source": [
    "### 1- Loading and exploring the dataset\n",
    "\n"
   ]
  },
  {
   "cell_type": "code",
   "execution_count": 1,
   "id": "c6fa0d35",
   "metadata": {},
   "outputs": [
    {
     "data": {
      "text/html": [
       "<div>\n",
       "<style scoped>\n",
       "    .dataframe tbody tr th:only-of-type {\n",
       "        vertical-align: middle;\n",
       "    }\n",
       "\n",
       "    .dataframe tbody tr th {\n",
       "        vertical-align: top;\n",
       "    }\n",
       "\n",
       "    .dataframe thead th {\n",
       "        text-align: right;\n",
       "    }\n",
       "</style>\n",
       "<table border=\"1\" class=\"dataframe\">\n",
       "  <thead>\n",
       "    <tr style=\"text-align: right;\">\n",
       "      <th></th>\n",
       "      <th>SquareFeet</th>\n",
       "      <th>Bedrooms</th>\n",
       "      <th>Bathrooms</th>\n",
       "      <th>Neighborhood</th>\n",
       "      <th>YearBuilt</th>\n",
       "      <th>Price</th>\n",
       "    </tr>\n",
       "  </thead>\n",
       "  <tbody>\n",
       "    <tr>\n",
       "      <th>0</th>\n",
       "      <td>2126</td>\n",
       "      <td>4</td>\n",
       "      <td>1</td>\n",
       "      <td>Rural</td>\n",
       "      <td>1969</td>\n",
       "      <td>215355.283618</td>\n",
       "    </tr>\n",
       "    <tr>\n",
       "      <th>1</th>\n",
       "      <td>2459</td>\n",
       "      <td>3</td>\n",
       "      <td>2</td>\n",
       "      <td>Rural</td>\n",
       "      <td>1980</td>\n",
       "      <td>195014.221626</td>\n",
       "    </tr>\n",
       "    <tr>\n",
       "      <th>2</th>\n",
       "      <td>1860</td>\n",
       "      <td>2</td>\n",
       "      <td>1</td>\n",
       "      <td>Suburb</td>\n",
       "      <td>1970</td>\n",
       "      <td>306891.012076</td>\n",
       "    </tr>\n",
       "    <tr>\n",
       "      <th>3</th>\n",
       "      <td>2294</td>\n",
       "      <td>2</td>\n",
       "      <td>1</td>\n",
       "      <td>Urban</td>\n",
       "      <td>1996</td>\n",
       "      <td>206786.787153</td>\n",
       "    </tr>\n",
       "    <tr>\n",
       "      <th>4</th>\n",
       "      <td>2130</td>\n",
       "      <td>5</td>\n",
       "      <td>2</td>\n",
       "      <td>Suburb</td>\n",
       "      <td>2001</td>\n",
       "      <td>272436.239065</td>\n",
       "    </tr>\n",
       "  </tbody>\n",
       "</table>\n",
       "</div>"
      ],
      "text/plain": [
       "   SquareFeet  Bedrooms  Bathrooms Neighborhood  YearBuilt          Price\n",
       "0        2126         4          1        Rural       1969  215355.283618\n",
       "1        2459         3          2        Rural       1980  195014.221626\n",
       "2        1860         2          1       Suburb       1970  306891.012076\n",
       "3        2294         2          1        Urban       1996  206786.787153\n",
       "4        2130         5          2       Suburb       2001  272436.239065"
      ]
     },
     "execution_count": 1,
     "metadata": {},
     "output_type": "execute_result"
    }
   ],
   "source": [
    "import pandas as pd\n",
    "\n",
    "df = pd.read_csv(\"../data/housing_price_dataset.csv\")\n",
    "\n",
    "df.head()\n"
   ]
  },
  {
   "cell_type": "markdown",
   "id": "b25909d9",
   "metadata": {},
   "source": [
    "### 2- Data Overview\n",
    "\n",
    "checking data types and basic statistics of the dataset"
   ]
  },
  {
   "cell_type": "code",
   "execution_count": 2,
   "id": "2fe2d532",
   "metadata": {},
   "outputs": [
    {
     "name": "stdout",
     "output_type": "stream",
     "text": [
      "<class 'pandas.core.frame.DataFrame'>\n",
      "RangeIndex: 50000 entries, 0 to 49999\n",
      "Data columns (total 6 columns):\n",
      " #   Column        Non-Null Count  Dtype  \n",
      "---  ------        --------------  -----  \n",
      " 0   SquareFeet    50000 non-null  int64  \n",
      " 1   Bedrooms      50000 non-null  int64  \n",
      " 2   Bathrooms     50000 non-null  int64  \n",
      " 3   Neighborhood  50000 non-null  object \n",
      " 4   YearBuilt     50000 non-null  int64  \n",
      " 5   Price         50000 non-null  float64\n",
      "dtypes: float64(1), int64(4), object(1)\n",
      "memory usage: 2.3+ MB\n"
     ]
    }
   ],
   "source": [
    "df.info()\n"
   ]
  },
  {
   "cell_type": "code",
   "execution_count": 3,
   "id": "4f7094fe",
   "metadata": {},
   "outputs": [
    {
     "data": {
      "text/html": [
       "<div>\n",
       "<style scoped>\n",
       "    .dataframe tbody tr th:only-of-type {\n",
       "        vertical-align: middle;\n",
       "    }\n",
       "\n",
       "    .dataframe tbody tr th {\n",
       "        vertical-align: top;\n",
       "    }\n",
       "\n",
       "    .dataframe thead th {\n",
       "        text-align: right;\n",
       "    }\n",
       "</style>\n",
       "<table border=\"1\" class=\"dataframe\">\n",
       "  <thead>\n",
       "    <tr style=\"text-align: right;\">\n",
       "      <th></th>\n",
       "      <th>SquareFeet</th>\n",
       "      <th>Bedrooms</th>\n",
       "      <th>Bathrooms</th>\n",
       "      <th>YearBuilt</th>\n",
       "      <th>Price</th>\n",
       "    </tr>\n",
       "  </thead>\n",
       "  <tbody>\n",
       "    <tr>\n",
       "      <th>count</th>\n",
       "      <td>50000.000000</td>\n",
       "      <td>50000.000000</td>\n",
       "      <td>50000.000000</td>\n",
       "      <td>50000.000000</td>\n",
       "      <td>50000.000000</td>\n",
       "    </tr>\n",
       "    <tr>\n",
       "      <th>mean</th>\n",
       "      <td>2006.374680</td>\n",
       "      <td>3.498700</td>\n",
       "      <td>1.995420</td>\n",
       "      <td>1985.404420</td>\n",
       "      <td>224827.325151</td>\n",
       "    </tr>\n",
       "    <tr>\n",
       "      <th>std</th>\n",
       "      <td>575.513241</td>\n",
       "      <td>1.116326</td>\n",
       "      <td>0.815851</td>\n",
       "      <td>20.719377</td>\n",
       "      <td>76141.842966</td>\n",
       "    </tr>\n",
       "    <tr>\n",
       "      <th>min</th>\n",
       "      <td>1000.000000</td>\n",
       "      <td>2.000000</td>\n",
       "      <td>1.000000</td>\n",
       "      <td>1950.000000</td>\n",
       "      <td>-36588.165397</td>\n",
       "    </tr>\n",
       "    <tr>\n",
       "      <th>25%</th>\n",
       "      <td>1513.000000</td>\n",
       "      <td>3.000000</td>\n",
       "      <td>1.000000</td>\n",
       "      <td>1967.000000</td>\n",
       "      <td>169955.860225</td>\n",
       "    </tr>\n",
       "    <tr>\n",
       "      <th>50%</th>\n",
       "      <td>2007.000000</td>\n",
       "      <td>3.000000</td>\n",
       "      <td>2.000000</td>\n",
       "      <td>1985.000000</td>\n",
       "      <td>225052.141166</td>\n",
       "    </tr>\n",
       "    <tr>\n",
       "      <th>75%</th>\n",
       "      <td>2506.000000</td>\n",
       "      <td>4.000000</td>\n",
       "      <td>3.000000</td>\n",
       "      <td>2003.000000</td>\n",
       "      <td>279373.630052</td>\n",
       "    </tr>\n",
       "    <tr>\n",
       "      <th>max</th>\n",
       "      <td>2999.000000</td>\n",
       "      <td>5.000000</td>\n",
       "      <td>3.000000</td>\n",
       "      <td>2021.000000</td>\n",
       "      <td>492195.259972</td>\n",
       "    </tr>\n",
       "  </tbody>\n",
       "</table>\n",
       "</div>"
      ],
      "text/plain": [
       "         SquareFeet      Bedrooms     Bathrooms     YearBuilt          Price\n",
       "count  50000.000000  50000.000000  50000.000000  50000.000000   50000.000000\n",
       "mean    2006.374680      3.498700      1.995420   1985.404420  224827.325151\n",
       "std      575.513241      1.116326      0.815851     20.719377   76141.842966\n",
       "min     1000.000000      2.000000      1.000000   1950.000000  -36588.165397\n",
       "25%     1513.000000      3.000000      1.000000   1967.000000  169955.860225\n",
       "50%     2007.000000      3.000000      2.000000   1985.000000  225052.141166\n",
       "75%     2506.000000      4.000000      3.000000   2003.000000  279373.630052\n",
       "max     2999.000000      5.000000      3.000000   2021.000000  492195.259972"
      ]
     },
     "execution_count": 3,
     "metadata": {},
     "output_type": "execute_result"
    }
   ],
   "source": [
    "df.describe()\n"
   ]
  },
  {
   "cell_type": "code",
   "execution_count": 4,
   "id": "c2da7c17",
   "metadata": {},
   "outputs": [
    {
     "data": {
      "text/plain": [
       "SquareFeet      0\n",
       "Bedrooms        0\n",
       "Bathrooms       0\n",
       "Neighborhood    0\n",
       "YearBuilt       0\n",
       "Price           0\n",
       "dtype: int64"
      ]
     },
     "execution_count": 4,
     "metadata": {},
     "output_type": "execute_result"
    }
   ],
   "source": [
    "df.isnull().sum()"
   ]
  },
  {
   "cell_type": "markdown",
   "id": "93fa5a2a",
   "metadata": {},
   "source": [
    "### 4- Handling Negative Price Values \n",
    "\n",
    " remove any rows where the house price is negative as it is unrealistic\n"
   ]
  },
  {
   "cell_type": "code",
   "execution_count": 16,
   "id": "83741c0a",
   "metadata": {},
   "outputs": [
    {
     "data": {
      "text/html": [
       "<div>\n",
       "<style scoped>\n",
       "    .dataframe tbody tr th:only-of-type {\n",
       "        vertical-align: middle;\n",
       "    }\n",
       "\n",
       "    .dataframe tbody tr th {\n",
       "        vertical-align: top;\n",
       "    }\n",
       "\n",
       "    .dataframe thead th {\n",
       "        text-align: right;\n",
       "    }\n",
       "</style>\n",
       "<table border=\"1\" class=\"dataframe\">\n",
       "  <thead>\n",
       "    <tr style=\"text-align: right;\">\n",
       "      <th></th>\n",
       "      <th>SquareFeet</th>\n",
       "      <th>Bedrooms</th>\n",
       "      <th>Bathrooms</th>\n",
       "      <th>YearBuilt</th>\n",
       "      <th>Price</th>\n",
       "    </tr>\n",
       "  </thead>\n",
       "  <tbody>\n",
       "    <tr>\n",
       "      <th>count</th>\n",
       "      <td>49478.000000</td>\n",
       "      <td>49478.000000</td>\n",
       "      <td>49478.000000</td>\n",
       "      <td>49478.000000</td>\n",
       "      <td>49478.000000</td>\n",
       "    </tr>\n",
       "    <tr>\n",
       "      <th>mean</th>\n",
       "      <td>2006.832148</td>\n",
       "      <td>3.499960</td>\n",
       "      <td>1.995028</td>\n",
       "      <td>1985.397247</td>\n",
       "      <td>224910.294121</td>\n",
       "    </tr>\n",
       "    <tr>\n",
       "      <th>std</th>\n",
       "      <td>572.231237</td>\n",
       "      <td>1.115983</td>\n",
       "      <td>0.815904</td>\n",
       "      <td>20.721063</td>\n",
       "      <td>73750.768609</td>\n",
       "    </tr>\n",
       "    <tr>\n",
       "      <th>min</th>\n",
       "      <td>1000.000000</td>\n",
       "      <td>2.000000</td>\n",
       "      <td>1.000000</td>\n",
       "      <td>1950.000000</td>\n",
       "      <td>44328.569646</td>\n",
       "    </tr>\n",
       "    <tr>\n",
       "      <th>25%</th>\n",
       "      <td>1517.000000</td>\n",
       "      <td>3.000000</td>\n",
       "      <td>1.000000</td>\n",
       "      <td>1967.000000</td>\n",
       "      <td>170532.721073</td>\n",
       "    </tr>\n",
       "    <tr>\n",
       "      <th>50%</th>\n",
       "      <td>2008.000000</td>\n",
       "      <td>3.000000</td>\n",
       "      <td>2.000000</td>\n",
       "      <td>1985.000000</td>\n",
       "      <td>225100.123857</td>\n",
       "    </tr>\n",
       "    <tr>\n",
       "      <th>75%</th>\n",
       "      <td>2501.000000</td>\n",
       "      <td>4.000000</td>\n",
       "      <td>3.000000</td>\n",
       "      <td>2003.000000</td>\n",
       "      <td>278922.324888</td>\n",
       "    </tr>\n",
       "    <tr>\n",
       "      <th>max</th>\n",
       "      <td>2999.000000</td>\n",
       "      <td>5.000000</td>\n",
       "      <td>3.000000</td>\n",
       "      <td>2021.000000</td>\n",
       "      <td>406737.557926</td>\n",
       "    </tr>\n",
       "  </tbody>\n",
       "</table>\n",
       "</div>"
      ],
      "text/plain": [
       "         SquareFeet      Bedrooms     Bathrooms     YearBuilt          Price\n",
       "count  49478.000000  49478.000000  49478.000000  49478.000000   49478.000000\n",
       "mean    2006.832148      3.499960      1.995028   1985.397247  224910.294121\n",
       "std      572.231237      1.115983      0.815904     20.721063   73750.768609\n",
       "min     1000.000000      2.000000      1.000000   1950.000000   44328.569646\n",
       "25%     1517.000000      3.000000      1.000000   1967.000000  170532.721073\n",
       "50%     2008.000000      3.000000      2.000000   1985.000000  225100.123857\n",
       "75%     2501.000000      4.000000      3.000000   2003.000000  278922.324888\n",
       "max     2999.000000      5.000000      3.000000   2021.000000  406737.557926"
      ]
     },
     "execution_count": 16,
     "metadata": {},
     "output_type": "execute_result"
    }
   ],
   "source": [
    "\n",
    "df = df[df['Price'] >= 0]\n",
    "df.describe()"
   ]
  },
  {
   "cell_type": "markdown",
   "id": "61e2d626",
   "metadata": {},
   "source": [
    "### 5- outliers"
   ]
  },
  {
   "cell_type": "code",
   "execution_count": 6,
   "id": "b19539b7",
   "metadata": {},
   "outputs": [
    {
     "name": "stdout",
     "output_type": "stream",
     "text": [
      "Outliers for Price column:\n",
      "       SquareFeet  Bedrooms  Bathrooms Neighborhood  YearBuilt          Price\n",
      "2845         2999         5          2        Urban       1999  461502.014630\n",
      "3285         2985         5          1        Rural       1961  456959.804367\n",
      "3357         2928         3          3       Suburb       1962  457902.675442\n",
      "3784         2901         2          3        Urban       1996  470989.679074\n",
      "3967         2931         5          1        Rural       1983  453551.125469\n",
      "4537         1102         2          1       Suburb       1967    5796.058628\n",
      "7276         2957         2          3        Rural       1989  452870.618989\n",
      "7430         2758         5          2        Rural       1967  492195.259972\n",
      "8687         2883         2          3       Suburb       1978  444972.111219\n",
      "11322        2888         2          2        Urban       1953  468470.378004\n",
      "11330        2924         2          2        Rural       2000  446341.362223\n",
      "12055        2888         5          1       Suburb       2016  451173.373568\n",
      "16821        2941         4          3        Rural       1993  449315.843749\n",
      "17216        1013         2          1       Suburb       2018     276.063516\n",
      "21815        2998         3          2        Urban       1995  468493.877841\n",
      "23600        2925         3          3       Suburb       1960  447752.277841\n",
      "23662        1256         3          1        Rural       1978    3000.859614\n",
      "25017        2970         4          3        Urban       2005  462557.562958\n",
      "26930        2995         5          2        Urban       1954  476671.733263\n",
      "26973        2771         5          2        Urban       1960  467492.827823\n",
      "27300        1041         4          1        Urban       2002    3926.857020\n",
      "29044        2205         4          2       Suburb       1967  445343.409387\n",
      "29980        1005         3          3        Urban       1978    2697.849758\n",
      "30955        2667         3          1        Urban       1988  449584.857256\n",
      "32168        2983         2          1       Suburb       2000  449113.446422\n",
      "35166        2996         5          1       Suburb       1990  448600.048228\n",
      "36235        1112         3          1       Suburb       1978    2360.274450\n",
      "36661        2924         5          2        Urban       1986  460583.826082\n",
      "37192        2996         5          3        Urban       2010  448410.892790\n",
      "40144        1006         2          1       Suburb       1973     154.779120\n",
      "40168        2938         3          2       Suburb       1977  447379.227260\n",
      "40614        2720         2          3       Suburb       2000  455088.643110\n",
      "43745        2810         3          3        Urban       1964  451838.988772\n",
      "44311        2954         5          2        Rural       1960  456955.244541\n",
      "46610        2957         5          1       Suburb       2001  482577.163405\n",
      "47816        2532         5          3       Suburb       1978  446757.051204\n",
      "49924        2830         3          1       Suburb       1983  463977.238482\n",
      "Outliers for SquareFeet column:\n",
      "Empty DataFrame\n",
      "Columns: [SquareFeet, Bedrooms, Bathrooms, Neighborhood, YearBuilt, Price]\n",
      "Index: []\n",
      "Outliers for Bedrooms column:\n",
      "Empty DataFrame\n",
      "Columns: [SquareFeet, Bedrooms, Bathrooms, Neighborhood, YearBuilt, Price]\n",
      "Index: []\n",
      "Outliers for Bathrooms column:\n",
      "Empty DataFrame\n",
      "Columns: [SquareFeet, Bedrooms, Bathrooms, Neighborhood, YearBuilt, Price]\n",
      "Index: []\n",
      "Outliers for YearBuilt column:\n",
      "Empty DataFrame\n",
      "Columns: [SquareFeet, Bedrooms, Bathrooms, Neighborhood, YearBuilt, Price]\n",
      "Index: []\n"
     ]
    }
   ],
   "source": [
    "# Create a function to detect outliers using IQR for a single column\n",
    "def detect_outliers_iqr_single_column(df, column):\n",
    "    Q1 = df[column].quantile(0.25)\n",
    "    Q3 = df[column].quantile(0.75)\n",
    "    IQR = Q3 - Q1\n",
    "    \n",
    "    lower_bound = Q1 - 1.5 * IQR\n",
    "    upper_bound = Q3 + 1.5 * IQR\n",
    "    \n",
    "    outliers = df[(df[column] < lower_bound) | (df[column] > upper_bound)]\n",
    "    return outliers\n",
    "\n",
    "# Example: Outliers for Price column\n",
    "outliers_price = detect_outliers_iqr_single_column(df, 'Price')\n",
    "print(\"Outliers for Price column:\")\n",
    "print(outliers_price)\n",
    "\n",
    "# Repeat the same for other columns like SquareFeet, Bedrooms, etc.\n",
    "outliers_squarefeet = detect_outliers_iqr_single_column(df, 'SquareFeet')\n",
    "print(\"Outliers for SquareFeet column:\")\n",
    "print(outliers_squarefeet)\n",
    "\n",
    "outliers_bedrooms = detect_outliers_iqr_single_column(df, 'Bedrooms')\n",
    "print(\"Outliers for Bedrooms column:\")\n",
    "print(outliers_bedrooms)\n",
    "\n",
    "outliers_bathrooms = detect_outliers_iqr_single_column(df, 'Bathrooms')\n",
    "print(\"Outliers for Bathrooms column:\")\n",
    "print(outliers_bathrooms)\n",
    "\n",
    "outliers_yearbuilt = detect_outliers_iqr_single_column(df, 'YearBuilt')\n",
    "print(\"Outliers for YearBuilt column:\")\n",
    "print(outliers_yearbuilt)\n"
   ]
  },
  {
   "cell_type": "code",
   "execution_count": 7,
   "id": "71039a69",
   "metadata": {},
   "outputs": [],
   "source": [
    "#clipping :)\n",
    "\n",
    "lower_percentile = df['Price'].quantile(0.005)\n",
    "upper_percentile = df['Price'].quantile(0.995)\n",
    "\n",
    "df = df[(df['Price'] >= lower_percentile) & (df['Price'] <= upper_percentile)]\n",
    "\n",
    "\n"
   ]
  },
  {
   "cell_type": "markdown",
   "id": "38304679",
   "metadata": {},
   "source": [
    "### Exploring the relationships between variables"
   ]
  },
  {
   "cell_type": "code",
   "execution_count": 13,
   "id": "c9ebe7fb",
   "metadata": {},
   "outputs": [
    {
     "data": {
      "image/png": "[encoded data removed]",
      "text/plain": [
       "<Figure size 1000x800 with 2 Axes>"
      ]
     },
     "metadata": {},
     "output_type": "display_data"
    }
   ],
   "source": [
    "import seaborn as sns\n",
    "import matplotlib.pyplot as plt\n",
    "\n",
    "df_numeric = df.select_dtypes(include=['float64', 'int64'])\n",
    "\n",
    "\n",
    "plt.figure(figsize=(10, 8))\n",
    "sns.heatmap(df_numeric.corr(), annot=True, cmap=\"coolwarm\", fmt=\".2f\")\n",
    "plt.title(\"Correlation Heatmap\")\n",
    "plt.show()\n"
   ]
  },
  {
   "cell_type": "code",
   "execution_count": 12,
   "id": "73539a93",
   "metadata": {},
   "outputs": [
    {
     "data": {
      "image/png": "[encoded data removed]",
      "text/plain": [
       "<Figure size 640x480 with 1 Axes>"
      ]
     },
     "metadata": {},
     "output_type": "display_data"
    }
   ],
   "source": [
    "\n",
    "\n",
    "sns.histplot(df[\"Price\"], kde=True)\n",
    "plt.title(\"Distribution of Housing Prices\")\n",
    "plt.xlabel(\"Price\")\n",
    "plt.ylabel(\"Count\")\n",
    "plt.show()\n"
   ]
  },
  {
   "cell_type": "code",
   "execution_count": 15,
   "id": "9fc9d253",
   "metadata": {},
   "outputs": [
    {
     "name": "stdout",
     "output_type": "stream",
     "text": [
      "Cleaned data saved \n"
     ]
    }
   ],
   "source": [
    "\n",
    "df.to_csv(\"../data/housing_price_dataset_clean.csv\", index=False)\n",
    "print(\"Cleaned data saved \")\n"
   ]
  }
 ],
 "metadata": {
  "kernelspec": {
   "display_name": "Python 3",
   "language": "python",
   "name": "python3"
  },
  "language_info": {
   "codemirror_mode": {
    "name": "ipython",
    "version": 3
   },
   "file_extension": ".py",
   "mimetype": "text/x-python",
   "name": "python",
   "nbconvert_exporter": "python",
   "pygments_lexer": "ipython3",
   "version": "3.13.3"
  }
 },
 "nbformat": 4,
 "nbformat_minor": 5
}
